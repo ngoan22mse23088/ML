{
 "cells": [
  {
   "cell_type": "code",
   "execution_count": 1,
   "id": "303801e1",
   "metadata": {},
   "outputs": [],
   "source": [
    "import numpy as np\n",
    "import matplotlib.pyplot as plt\n",
    "from tensorflow.keras.models import load_model\n",
    "from tensorflow.keras.preprocessing import image\n",
    "from IPython.display import display\n",
    "from PIL import Image\n",
    "import ipywidgets as widgets\n",
    "import io"
   ]
  },
  {
   "cell_type": "code",
   "execution_count": 9,
   "id": "cefa7b79",
   "metadata": {},
   "outputs": [],
   "source": [
    "#Load model\n",
    "model = load_model('C:/Users/kieutien/Downloads/Surface-Defect-Detection/Surface-Defect-Detection/surface_defect_detection_model.h5', compile=False)\n",
    "# Load the labels\n",
    "class_names = open(\"C:/Users/kieutien/Downloads/Surface-Defect-Detection/Surface-Defect-Detection/labels.txt\", \"r\").readlines()"
   ]
  },
  {
   "cell_type": "code",
   "execution_count": 10,
   "id": "e051c3bf",
   "metadata": {},
   "outputs": [
    {
     "data": {
      "application/vnd.jupyter.widget-view+json": {
       "model_id": "2c3fe5f4a5474eefa282275f1ab2c574",
       "version_major": 2,
       "version_minor": 0
      },
      "text/plain": [
       "FileUpload(value=(), accept='image/*', description='Upload', multiple=True)"
      ]
     },
     "metadata": {},
     "output_type": "display_data"
    }
   ],
   "source": [
    "import ipywidgets as widgets\n",
    "from IPython.display import display\n",
    "\n",
    "# Create an upload widget\n",
    "uploader = widgets.FileUpload(\n",
    "    accept='image/*',  # Accept image files only\n",
    "    multiple=True  # Allow multiple files to be selected\n",
    ")\n",
    "\n",
    "def handle_upload(change):\n",
    "    # Clear output to avoid duplication\n",
    "    display.clear_output(wait=True)\n",
    "    # Process each uploaded file\n",
    "    print('Uploaded files:')\n",
    "    for filename, file_info in uploader.value.items():\n",
    "        print(filename)  # You could add more processing logic here\n",
    "\n",
    "# Register the callback with the 'data' attribute to react to changes\n",
    "uploader.observe(handle_upload, names='data')\n",
    "\n",
    "# Display the upload widget\n",
    "display(uploader)\n"
   ]
  },
  {
   "cell_type": "code",
   "execution_count": 16,
   "id": "1bf1e311",
   "metadata": {},
   "outputs": [
    {
     "ename": "AttributeError",
     "evalue": "'tuple' object has no attribute 'items'",
     "output_type": "error",
     "traceback": [
      "\u001b[1;31m---------------------------------------------------------------------------\u001b[0m",
      "\u001b[1;31mAttributeError\u001b[0m                            Traceback (most recent call last)",
      "Cell \u001b[1;32mIn[16], line 9\u001b[0m\n\u001b[0;32m      6\u001b[0m     \u001b[38;5;28;01mreturn\u001b[39;00m uploaded_files_contents\n\u001b[0;32m      8\u001b[0m \u001b[38;5;66;03m# Usage: Call this function after files have been uploaded\u001b[39;00m\n\u001b[1;32m----> 9\u001b[0m uploaded_files_contents \u001b[38;5;241m=\u001b[39m \u001b[43mget_uploaded_files\u001b[49m\u001b[43m(\u001b[49m\u001b[43muploader\u001b[49m\u001b[43m)\u001b[49m\n",
      "Cell \u001b[1;32mIn[16], line 3\u001b[0m, in \u001b[0;36mget_uploaded_files\u001b[1;34m(uploader)\u001b[0m\n\u001b[0;32m      1\u001b[0m \u001b[38;5;28;01mdef\u001b[39;00m \u001b[38;5;21mget_uploaded_files\u001b[39m(uploader):\n\u001b[0;32m      2\u001b[0m     uploaded_files_contents \u001b[38;5;241m=\u001b[39m []\n\u001b[1;32m----> 3\u001b[0m     \u001b[38;5;28;01mfor\u001b[39;00m filename, file_info \u001b[38;5;129;01min\u001b[39;00m \u001b[43muploader\u001b[49m\u001b[38;5;241;43m.\u001b[39;49m\u001b[43mvalue\u001b[49m\u001b[38;5;241;43m.\u001b[39;49m\u001b[43mitems\u001b[49m():\n\u001b[0;32m      4\u001b[0m         content \u001b[38;5;241m=\u001b[39m file_info[\u001b[38;5;124m'\u001b[39m\u001b[38;5;124mcontent\u001b[39m\u001b[38;5;124m'\u001b[39m]\n\u001b[0;32m      5\u001b[0m         uploaded_files_contents\u001b[38;5;241m.\u001b[39mappend(content)\n",
      "\u001b[1;31mAttributeError\u001b[0m: 'tuple' object has no attribute 'items'"
     ]
    }
   ],
   "source": [
    "def get_uploaded_files(uploader):\n",
    "    uploaded_files_contents = []\n",
    "    for filename, file_info in uploader.value.items():\n",
    "        content = file_info['content']\n",
    "        uploaded_files_contents.append(content)\n",
    "    return uploaded_files_contents\n",
    "\n",
    "# Usage: Call this function after files have been uploaded\n",
    "uploaded_files_contents = get_uploaded_files(uploader)"
   ]
  },
  {
   "cell_type": "code",
   "execution_count": 17,
   "id": "9c138405",
   "metadata": {},
   "outputs": [],
   "source": [
    "def load_and_preprocess_image(uploaded_file, target_size=(200, 200)):\n",
    "    \"\"\"Load an image from the uploaded file and preprocess it for model prediction.\"\"\"\n",
    "    img = Image.open(io.BytesIO(uploaded_file))\n",
    "    if img.mode != 'RGB':\n",
    "        img = img.convert('RGB')\n",
    "    img = img.resize(target_size)\n",
    "    img_array = image.img_to_array(img)\n",
    "    img_array = np.expand_dims(img_array, axis=0)  # Add batch dimension\n",
    "    img_array /= 255.0  # Normalize to [0,1] (if your model expects this range)\n",
    "    return img_array"
   ]
  },
  {
   "cell_type": "code",
   "execution_count": 18,
   "id": "793bd5cc",
   "metadata": {},
   "outputs": [
    {
     "ename": "NameError",
     "evalue": "name 'uploaded_files_contents' is not defined",
     "output_type": "error",
     "traceback": [
      "\u001b[1;31m---------------------------------------------------------------------------\u001b[0m",
      "\u001b[1;31mNameError\u001b[0m                                 Traceback (most recent call last)",
      "Cell \u001b[1;32mIn[18], line 8\u001b[0m\n\u001b[0;32m      5\u001b[0m \u001b[38;5;28;01mfrom\u001b[39;00m \u001b[38;5;21;01mtensorflow\u001b[39;00m\u001b[38;5;21;01m.\u001b[39;00m\u001b[38;5;21;01mkeras\u001b[39;00m\u001b[38;5;21;01m.\u001b[39;00m\u001b[38;5;21;01mpreprocessing\u001b[39;00m \u001b[38;5;28;01mimport\u001b[39;00m image\n\u001b[0;32m      7\u001b[0m \u001b[38;5;66;03m# Assuming you have a list of image file contents in 'uploaded_files_contents'\u001b[39;00m\n\u001b[1;32m----> 8\u001b[0m processed_images \u001b[38;5;241m=\u001b[39m np\u001b[38;5;241m.\u001b[39mvstack([load_and_preprocess_image(file_content) \u001b[38;5;28;01mfor\u001b[39;00m file_content \u001b[38;5;129;01min\u001b[39;00m \u001b[43muploaded_files_contents\u001b[49m])\n\u001b[0;32m      9\u001b[0m y_pred \u001b[38;5;241m=\u001b[39m model\u001b[38;5;241m.\u001b[39mpredict(processed_images)\n",
      "\u001b[1;31mNameError\u001b[0m: name 'uploaded_files_contents' is not defined"
     ]
    }
   ],
   "source": [
    "import numpy as np\n",
    "from PIL import Image\n",
    "import io\n",
    "import matplotlib.pyplot as plt\n",
    "from tensorflow.keras.preprocessing import image\n",
    "\n",
    "# Assuming you have a list of image file contents in 'uploaded_files_contents'\n",
    "processed_images = np.vstack([load_and_preprocess_image(file_content) for file_content in uploaded_files_contents])\n",
    "y_pred = model.predict(processed_images)"
   ]
  },
  {
   "cell_type": "code",
   "execution_count": 14,
   "id": "49d95d10",
   "metadata": {},
   "outputs": [
    {
     "ename": "NameError",
     "evalue": "name 'img_array' is not defined",
     "output_type": "error",
     "traceback": [
      "\u001b[1;31m---------------------------------------------------------------------------\u001b[0m",
      "\u001b[1;31mNameError\u001b[0m                                 Traceback (most recent call last)",
      "Cell \u001b[1;32mIn[14], line 2\u001b[0m\n\u001b[0;32m      1\u001b[0m \u001b[38;5;66;03m# Plotting Random Sample of test images, their predicted labels, and ground truth\u001b[39;00m\n\u001b[1;32m----> 2\u001b[0m x_test\u001b[38;5;241m=\u001b[39mload_and_preprocess_image(\u001b[43mimg_array\u001b[49m)\n\u001b[0;32m      3\u001b[0m y_pred \u001b[38;5;241m=\u001b[39m model\u001b[38;5;241m.\u001b[39mpredict(x_test)\n\u001b[0;32m      4\u001b[0m fig \u001b[38;5;241m=\u001b[39m plt\u001b[38;5;241m.\u001b[39mfigure(figsize\u001b[38;5;241m=\u001b[39m(\u001b[38;5;241m10\u001b[39m, \u001b[38;5;241m10\u001b[39m))\n",
      "\u001b[1;31mNameError\u001b[0m: name 'img_array' is not defined"
     ]
    }
   ],
   "source": [
    "fig = plt.figure(figsize=(10, 10))\n",
    "num_images = processed_images.shape[0]\n",
    "for i in range(min(num_images, 16)):  # Plot up to 16 images\n",
    "    ax = fig.add_subplot(4, 4, i + 1, xticks=[], yticks=[])\n",
    "    ax.imshow(np.squeeze(processed_images[i]))\n",
    "    pred_idx = np.argmax(y_pred[i])\n",
    "    # If ground truth is available\n",
    "    true_idx = np.argmax(y_test[i])  # Ensure you have ground truth available\n",
    "    ax.set_title(\"{} ({})\".format(target_labels[pred_idx], target_labels[true_idx]),\n",
    "                 color=(\"green\" if pred_idx == true_idx else \"red\"))\n",
    "plt.show()\n"
   ]
  },
  {
   "cell_type": "code",
   "execution_count": 19,
   "id": "44f1ef15",
   "metadata": {},
   "outputs": [],
   "source": [
    "from tensorflow.keras.models import load_model\n",
    "from PIL import Image, ImageOps\n",
    "import numpy as np\n",
    "import matplotlib.pyplot as plt\n",
    "from ipywidgets import FileUpload\n",
    "from IPython.display import display, clear_output\n",
    "import io"
   ]
  },
  {
   "cell_type": "code",
   "execution_count": 25,
   "id": "3ede0981",
   "metadata": {},
   "outputs": [
    {
     "name": "stdout",
     "output_type": "stream",
     "text": [
      "Model loaded successfully.\n",
      "Labels loaded successfully.\n"
     ]
    }
   ],
   "source": [
    "# Load the model\n",
    "model = load_model(\"C:/Users/kieutien/Downloads/Surface-Defect-Detection/Surface-Defect-Detection/surface_defect_detection_model.h5\", compile=False)\n",
    "print(\"Model loaded successfully.\")\n",
    "# Load the labels\n",
    "class_names = [line.strip() for line in open(\"C:/Users/kieutien/Downloads/Surface-Defect-Detection/Surface-Defect-Detection/labels.txt\", \"r\")]\n",
    "print(\"Labels loaded successfully.\")"
   ]
  },
  {
   "cell_type": "code",
   "execution_count": 26,
   "id": "c7804ef2",
   "metadata": {},
   "outputs": [
    {
     "data": {
      "application/vnd.jupyter.widget-view+json": {
       "model_id": "fe1edfbb4f4d4b55886b0d7618902b45",
       "version_major": 2,
       "version_minor": 0
      },
      "text/plain": [
       "FileUpload(value=(), accept='image/*', description='Upload')"
      ]
     },
     "metadata": {},
     "output_type": "display_data"
    }
   ],
   "source": [
    "upload = FileUpload(accept='image/*', multiple=False)\n",
    "display(upload)"
   ]
  },
  {
   "cell_type": "code",
   "execution_count": 28,
   "id": "e9c0ccad",
   "metadata": {},
   "outputs": [],
   "source": [
    "def handle_upload(change):\n",
    "    clear_output(wait=True)  # Clear the output to avoid clutter\n",
    "    try:\n",
    "        uploaded_file = next(iter(upload.value.values()))\n",
    "        print(\"File received:\", uploaded_file['metadata']['name'])  # Debug: print the file name\n",
    "\n",
    "        # Read the image file\n",
    "        content = uploaded_file['content']\n",
    "        img = Image.open(io.BytesIO(content)).convert(\"RGB\")\n",
    "        \n",
    "        # Display the image\n",
    "        plt.figure(figsize=(8, 8))\n",
    "        plt.imshow(img)\n",
    "        plt.axis('off')\n",
    "        plt.show()\n",
    "\n",
    "        # Prepare the image for prediction\n",
    "        img = ImageOps.fit(img, (224, 224), Image.Resampling.LANCZOS)\n",
    "        img_array = np.asarray(img)\n",
    "        img_array = (img_array.astype(np.float32) / 127.5) - 1\n",
    "        img_array = np.expand_dims(img_array, axis=0)\n",
    "\n",
    "        # Predict\n",
    "        prediction = model.predict(img_array)\n",
    "        predicted_class = class_names[np.argmax(prediction)]\n",
    "        confidence_score = np.max(prediction)\n",
    "        print(f\"Predicted: {predicted_class} (Confidence: {confidence_score:.2f})\")\n",
    "\n",
    "    except Exception as e:\n",
    "        print(\"An error occurred:\", str(e))\n",
    "\n",
    "upload.observe(handle_upload, names='data')  # Ensure to respond to the 'data' event\n",
    "\n"
   ]
  },
  {
   "cell_type": "code",
   "execution_count": 3,
   "id": "27ff6c62",
   "metadata": {},
   "outputs": [
    {
     "name": "stdout",
     "output_type": "stream",
     "text": [
      "Requirement already satisfied: jupyterlab_widgets in c:\\users\\kieutien\\appdata\\local\\programs\\python\\python311\\lib\\site-packages (3.0.7)\n"
     ]
    }
   ],
   "source": [
    "!pip install jupyterlab_widgets"
   ]
  },
  {
   "cell_type": "code",
   "execution_count": 4,
   "id": "4535a09d",
   "metadata": {},
   "outputs": [
    {
     "data": {
      "application/vnd.jupyter.widget-view+json": {
       "model_id": "1e2a7c3b767142a1b0be5ccdfc3696d2",
       "version_major": 2,
       "version_minor": 0
      },
      "text/plain": [
       "FileUpload(value=(), accept='image/*', description='Upload')"
      ]
     },
     "metadata": {},
     "output_type": "display_data"
    }
   ],
   "source": [
    "import ipywidgets as widgets\n",
    "from IPython.display import display, clear_output\n",
    "\n",
    "upload = widgets.FileUpload(accept='image/*', multiple=False)\n",
    "display(upload)\n",
    "\n",
    "def handle_upload(change):\n",
    "    clear_output(wait=True)\n",
    "    print(\"Uploaded file count:\", len(upload.value))\n",
    "    if upload.value:\n",
    "        print(\"File details:\", list(upload.value.keys()))  # Print the file names\n",
    "\n",
    "upload.observe(handle_upload, names='data')"
   ]
  }
 ],
 "metadata": {
  "kernelspec": {
   "display_name": "Python 3 (ipykernel)",
   "language": "python",
   "name": "python3"
  },
  "language_info": {
   "codemirror_mode": {
    "name": "ipython",
    "version": 3
   },
   "file_extension": ".py",
   "mimetype": "text/x-python",
   "name": "python",
   "nbconvert_exporter": "python",
   "pygments_lexer": "ipython3",
   "version": "3.11.2"
  }
 },
 "nbformat": 4,
 "nbformat_minor": 5
}
