{
 "cells": [
  {
   "cell_type": "code",
   "execution_count": null,
   "id": "0e81ac2b",
   "metadata": {},
   "outputs": [],
   "source": [
    "!pip install ipywidgets tensorflow"
   ]
  },
  {
   "cell_type": "code",
   "execution_count": null,
   "id": "67199f81",
   "metadata": {},
   "outputs": [],
   "source": [
    "!jupyter nbextension enable --py widgetsnbextension"
   ]
  },
  {
   "cell_type": "code",
   "execution_count": 9,
   "id": "3fbc8e71",
   "metadata": {},
   "outputs": [],
   "source": [
    "from IPython.display import display, clear_output"
   ]
  },
  {
   "cell_type": "code",
   "execution_count": 10,
   "id": "45fd9bb7",
   "metadata": {},
   "outputs": [
    {
     "name": "stderr",
     "output_type": "stream",
     "text": [
      "WARNING:absl:Compiled the loaded model, but the compiled metrics have yet to be built. `model.compile_metrics` will be empty until you train or evaluate the model.\n"
     ]
    },
    {
     "data": {
      "application/vnd.jupyter.widget-view+json": {
       "model_id": "893c01663f414db689c2f27940946dc4",
       "version_major": 2,
       "version_minor": 0
      },
      "text/plain": [
       "FileUpload(value=(), accept='image/*', description='Upload', multiple=True)"
      ]
     },
     "metadata": {},
     "output_type": "display_data"
    },
    {
     "data": {
      "application/vnd.jupyter.widget-view+json": {
       "model_id": "c6837f644f3747dab1a5f9586f1657ee",
       "version_major": 2,
       "version_minor": 0
      },
      "text/plain": [
       "Button(description='Classify Images', style=ButtonStyle())"
      ]
     },
     "metadata": {},
     "output_type": "display_data"
    },
    {
     "data": {
      "application/vnd.jupyter.widget-view+json": {
       "model_id": "499eb3c07e714308a632c0f79cb0b3c5",
       "version_major": 2,
       "version_minor": 0
      },
      "text/plain": [
       "Output()"
      ]
     },
     "metadata": {},
     "output_type": "display_data"
    }
   ],
   "source": [
    "import io\n",
    "import numpy as np\n",
    "from IPython.display import display\n",
    "import ipywidgets as widgets\n",
    "from PIL import Image, ImageOps\n",
    "from tensorflow.keras.models import load_model\n",
    "import matplotlib.pyplot as plt\n",
    "\n",
    "# Load your pre-trained model\n",
    "model = load_model('C:/Users/kieutien/Downloads/Surface-Defect-Detection/Surface-Defect-Detection/surface_defect_detection_model.h5', compile=False)  # Update the path to your model\n",
    "class_names = open(\"C:/Users/kieutien/Downloads/Surface-Defect-Detection/Surface-Defect-Detection/labels.txt\", \"r\").readlines()\n",
    "\n",
    "# Function to load, resize and normalize an image\n",
    "def load_and_preprocess_image(img, target_size=(224, 224)):\n",
    "    \"\"\"Resize and preprocess an image for model prediction.\"\"\"\n",
    "    img = ImageOps.fit(img, target_size, Image.Resampling.LANCZOS)\n",
    "    img_array = np.asarray(img)\n",
    "    img_array = (img_array.astype(np.float32) / 255.0) - 1  # Adjust this based on your model's training\n",
    "    img_array = np.expand_dims(img_array, axis=0)\n",
    "    return img_array\n",
    "\n",
    "\n",
    "def on_click_classify(change):\n",
    "    with output:\n",
    "        clear_output(wait=True)\n",
    "        print(\"Uploader value type:\", type(uploader.value))\n",
    "        print(\"Uploader value content:\", uploader.value)\n",
    "        \n",
    "        if not uploader.value:\n",
    "            print(\"No image uploaded!\")\n",
    "            return\n",
    "        \n",
    "        # Assuming uploader.value is correctly structured as a dictionary\n",
    "        try:\n",
    "            for name, file_info in uploader.value.items():\n",
    "                img = Image.open(io.BytesIO(file_info['content'])).convert('RGB')\n",
    "                plt.imshow(img)\n",
    "                plt.axis('off')\n",
    "                plt.show()\n",
    "\n",
    "                # Prepare the image for prediction\n",
    "                img = ImageOps.fit(img, (224, 224), Image.Resampling.LANCZOS)\n",
    "                img_array = np.asarray(img)\n",
    "                img_array = (img_array.astype(np.float32) / 127.5) - 1\n",
    "                img_array = np.expand_dims(img_array, axis=0)\n",
    "\n",
    "                # Predict image\n",
    "                prediction = model.predict(img_array)\n",
    "                predicted_class = class_names[np.argmax(prediction)]\n",
    "                print(f\"Image {name}: Predicted class is {predicted_class}\")\n",
    "        except Exception as e:\n",
    "            print(\"Failed to process uploaded files:\", str(e))\n",
    "\n",
    "# Setup widgets and event handlers\n",
    "uploader = widgets.FileUpload(accept='image/*', multiple=True)\n",
    "button = widgets.Button(description=\"Classify Images\")\n",
    "output = widgets.Output()\n",
    "\n",
    "button.on_click(on_click_classify)\n",
    "display(uploader, button, output)\n"
   ]
  }
 ],
 "metadata": {
  "kernelspec": {
   "display_name": "Python 3 (ipykernel)",
   "language": "python",
   "name": "python3"
  },
  "language_info": {
   "codemirror_mode": {
    "name": "ipython",
    "version": 3
   },
   "file_extension": ".py",
   "mimetype": "text/x-python",
   "name": "python",
   "nbconvert_exporter": "python",
   "pygments_lexer": "ipython3",
   "version": "3.11.2"
  }
 },
 "nbformat": 4,
 "nbformat_minor": 5
}
